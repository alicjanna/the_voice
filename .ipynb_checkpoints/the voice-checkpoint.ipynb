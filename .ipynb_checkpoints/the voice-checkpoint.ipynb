{
 "cells": [
  {
   "cell_type": "markdown",
   "metadata": {},
   "source": [
    "# the voice of biomed"
   ]
  },
  {
   "cell_type": "markdown",
   "metadata": {},
   "source": [
    "Projekt na przedmioty:\n",
    "- eksploracja danych biomedycznych\n",
    "- głosowa łączność z komputerem\n",
    "\n",
    "Zadaniem projektu jest stworzenie systemu zdolnego do rozpoznawania zestawu komend głosowych, które mogłyby być potencjalnie wykorzystane do sterowania inteligentnym budynkiem, ale nie będą.\n",
    "\n",
    "Zbiorem wykorzystanym przy budowie klasyfikatora są nagrania stworzone przez studentów Informatyki i Elektroniki Medycznej. 56 zestawów nagrań po 13 komend zostało odpowiednio przetransformowane, aby mogła dziać się magia (automagicznie).\n",
    "\n",
    "Także zapnijcie pasy i...\n",
    "\n",
    "ZROB NASTROJ"
   ]
  },
  {
   "cell_type": "markdown",
   "metadata": {},
   "source": [
    "#### biblioteki"
   ]
  },
  {
   "cell_type": "code",
   "execution_count": 337,
   "metadata": {
    "collapsed": true
   },
   "outputs": [],
   "source": [
    "import pandas as pd\n",
    "import numpy as np\n",
    "import scipy.io.wavfile as wav\n",
    "import matplotlib.pyplot as plt\n",
    "import csv\n",
    "import os\n",
    "import glob\n",
    "%matplotlib inline"
   ]
  },
  {
   "cell_type": "code",
   "execution_count": 83,
   "metadata": {},
   "outputs": [
    {
     "name": "stdout",
     "output_type": "stream",
     "text": [
      "[  0.00000000e+00   2.26757370e-05   4.53514739e-05 ...,   1.70660998e+01\n",
      "   1.70661224e+01   1.70661451e+01]\n"
     ]
    }
   ],
   "source": [
    "# taka tam oś czasu na zaśkę\n",
    "time = np.linspace(0, len(data)-1, len(data)) / sample\n",
    "print(time)"
   ]
  },
  {
   "cell_type": "code",
   "execution_count": 84,
   "metadata": {},
   "outputs": [
    {
     "data": {
      "image/png": "[encoded data removed]",
      "text/plain": [
       "<matplotlib.figure.Figure at 0x2100f66bef0>"
      ]
     },
     "metadata": {},
     "output_type": "display_data"
    }
   ],
   "source": [
    "# test plot\n",
    "plt.plot(data)\n",
    "plt.xlabel('wave')\n",
    "plt.show()"
   ]
  },
  {
   "cell_type": "markdown",
   "metadata": {},
   "source": [
    "#### import danych do jednego dataframe"
   ]
  },
  {
   "cell_type": "code",
   "execution_count": 338,
   "metadata": {},
   "outputs": [
    {
     "name": "stderr",
     "output_type": "stream",
     "text": [
      "C:\\ProgramData\\Anaconda3\\lib\\site-packages\\scipy\\io\\wavfile.py:273: WavFileWarning: Chunk (non-data) not understood, skipping it.\n",
      "  WavFileWarning)\n"
     ]
    }
   ],
   "source": [
    "pliki = glob.glob(\"C:/Users/Alicja/Documents/GitHub/the_voice/data/*.wav\")\n",
    "labelki = glob.glob(\"C:/Users/Alicja/Documents/GitHub/the_voice/data/*.txt\")\n",
    "data_list = list()\n",
    "command_list = list()\n",
    "\n",
    "for x in range (0, len(pliki)):\n",
    "    sample, data = wav.read(pliki[x], mmap=False)\n",
    "    labels = list(csv.reader(open(labelki[x], 'r'), delimiter='\\t'))\n",
    "    \n",
    "    for i in range (0,len(labels)):\n",
    "        data_list.append(data[int(float(labels[i][0])*sample)-1 : int(float(labels[i][1])*sample)+1])\n",
    "        command_list.append(labels[i][2])\n",
    "        \n",
    "d = {'command': command_list, 'data': data_list}\n",
    "df = pd.DataFrame(data=d)\n",
    "#df"
   ]
  },
  {
   "cell_type": "markdown",
   "metadata": {},
   "source": [
    "### przetwarzanie danych"
   ]
  },
  {
   "cell_type": "markdown",
   "metadata": {},
   "source": [
    "Dane są jak ludzie - nie bez wad. Szczególnie gdy dane są tworzone przez ludzi z wadami. Genetycznymi."
   ]
  },
  {
   "cell_type": "code",
   "execution_count": 339,
   "metadata": {},
   "outputs": [
    {
     "name": "stdout",
     "output_type": "stream",
     "text": [
      "ZAPAL        56\n",
      "PODNIES      56\n",
      "ZROB         56\n",
      "NASTROJ      56\n",
      "WLACZ        56\n",
      "ZAMKNIJ      56\n",
      "MUZYKE       56\n",
      "ROLETY       56\n",
      "WYLACZ       56\n",
      "TELEWIZOR    56\n",
      "GARAZ        56\n",
      "OTWORZ       56\n",
      "SWIATLO      56\n",
      "Name: command, dtype: int64\n"
     ]
    }
   ],
   "source": [
    "# poprawa literowek\n",
    "df.loc[df['command'] == 'MUZYEK', 'command'] = 'MUZYKE'\n",
    "df.loc[df['command'] == 'ZAKMNIJ', 'command'] = 'ZAMKNIJ'\n",
    "print(df['command'].value_counts())"
   ]
  },
  {
   "cell_type": "code",
   "execution_count": 340,
   "metadata": {
    "collapsed": true
   },
   "outputs": [],
   "source": [
    "# ewentualne miejsce na normalizacje czy coś\n"
   ]
  },
  {
   "cell_type": "code",
   "execution_count": null,
   "metadata": {
    "collapsed": true
   },
   "outputs": [],
   "source": []
  }
 ],
 "metadata": {
  "kernelspec": {
   "display_name": "Python 3",
   "language": "python",
   "name": "python3"
  },
  "language_info": {
   "codemirror_mode": {
    "name": "ipython",
    "version": 3
   },
   "file_extension": ".py",
   "mimetype": "text/x-python",
   "name": "python",
   "nbconvert_exporter": "python",
   "pygments_lexer": "ipython3",
   "version": "3.6.3"
  }
 },
 "nbformat": 4,
 "nbformat_minor": 2
}
